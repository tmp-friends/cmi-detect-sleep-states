{
 "cells": [
  {
   "cell_type": "code",
   "execution_count": 1,
   "id": "e8f460ce",
   "metadata": {
    "execution": {
     "iopub.execute_input": "2023-11-30T08:58:06.815289Z",
     "iopub.status.busy": "2023-11-30T08:58:06.814844Z",
     "iopub.status.idle": "2023-11-30T08:58:08.525022Z",
     "shell.execute_reply": "2023-11-30T08:58:08.523946Z"
    },
    "papermill": {
     "duration": 1.71896,
     "end_time": "2023-11-30T08:58:08.527607",
     "exception": false,
     "start_time": "2023-11-30T08:58:06.808647",
     "status": "completed"
    },
    "tags": []
   },
   "outputs": [],
   "source": [
    "import os\n",
    "import gc\n",
    "import time\n",
    "import json\n",
    "import joblib\n",
    "import random\n",
    "import math\n",
    "from math import pi, sqrt, exp\n",
    "from tqdm.auto import tqdm\n",
    "\n",
    "import pyarrow as pa\n",
    "from pyarrow.parquet import ParquetFile\n",
    "from scipy.interpolate import interp1d\n",
    "import pandas as pd\n",
    "import numpy as np\n",
    "import sklearn, sklearn.model_selection"
   ]
  },
  {
   "cell_type": "code",
   "execution_count": 2,
   "id": "04fd85df",
   "metadata": {
    "execution": {
     "iopub.execute_input": "2023-11-30T08:58:08.539050Z",
     "iopub.status.busy": "2023-11-30T08:58:08.538518Z",
     "iopub.status.idle": "2023-11-30T08:58:08.543645Z",
     "shell.execute_reply": "2023-11-30T08:58:08.542571Z"
    },
    "papermill": {
     "duration": 0.012426,
     "end_time": "2023-11-30T08:58:08.545858",
     "exception": false,
     "start_time": "2023-11-30T08:58:08.533432",
     "status": "completed"
    },
    "tags": []
   },
   "outputs": [],
   "source": [
    "class PATHS:\n",
    "    MAIN_DIR = \"/kaggle/input/child-mind-institute-detect-sleep-states/\"\n",
    "    # csv\n",
    "    SUBMISSION = MAIN_DIR + \"sample_submission.csv\"\n",
    "    TRAIN_EVENTS = MAIN_DIR + \"train_events.csv\"\n",
    "    # parquet\n",
    "    TRAIN_SERIES = MAIN_DIR + \"train_series.parquet\"\n",
    "    TEST_SERIES = MAIN_DIR + \"test_series.parquet\""
   ]
  },
  {
   "cell_type": "code",
   "execution_count": 3,
   "id": "775cdf20",
   "metadata": {
    "execution": {
     "iopub.execute_input": "2023-11-30T08:58:08.555051Z",
     "iopub.status.busy": "2023-11-30T08:58:08.554292Z",
     "iopub.status.idle": "2023-11-30T08:58:08.559387Z",
     "shell.execute_reply": "2023-11-30T08:58:08.558342Z"
    },
    "papermill": {
     "duration": 0.011954,
     "end_time": "2023-11-30T08:58:08.561500",
     "exception": false,
     "start_time": "2023-11-30T08:58:08.549546",
     "status": "completed"
    },
    "tags": []
   },
   "outputs": [],
   "source": [
    "out_dir = \"train_csvs\"\n",
    "os.makedirs(out_dir, exist_ok=True)"
   ]
  },
  {
   "cell_type": "markdown",
   "id": "a0576ee4",
   "metadata": {
    "papermill": {
     "duration": 0.00331,
     "end_time": "2023-11-30T08:58:08.568398",
     "exception": false,
     "start_time": "2023-11-30T08:58:08.565088",
     "status": "completed"
    },
    "tags": []
   },
   "source": [
    "### Load data"
   ]
  },
  {
   "cell_type": "code",
   "execution_count": 4,
   "id": "4025318b",
   "metadata": {
    "execution": {
     "iopub.execute_input": "2023-11-30T08:58:08.577039Z",
     "iopub.status.busy": "2023-11-30T08:58:08.576669Z",
     "iopub.status.idle": "2023-11-30T08:58:08.585741Z",
     "shell.execute_reply": "2023-11-30T08:58:08.584609Z"
    },
    "papermill": {
     "duration": 0.016032,
     "end_time": "2023-11-30T08:58:08.587807",
     "exception": false,
     "start_time": "2023-11-30T08:58:08.571775",
     "status": "completed"
    },
    "tags": []
   },
   "outputs": [],
   "source": [
    "class DataReader:\n",
    "    def __init__(self):\n",
    "        # Mapping for data loading\n",
    "        self.names_mapping = {\n",
    "            \"submission\": {\"path\": PATHS.SUBMISSION, \"is_parquet\": False, \"has_timestamp\": False},\n",
    "            \"train_events\": {\"path\": PATHS.TRAIN_EVENTS, \"is_parquet\": False, \"has_timestamp\": True},\n",
    "            \"train_series\": {\"path\": PATHS.TRAIN_SERIES, \"is_parquet\": True, \"has_timestamp\": True},\n",
    "            \"test_series\": {\"path\": PATHS.TEST_SERIES, \"is_parquet\": True, \"has_timestamp\": True},\n",
    "        }\n",
    "        self.valid_names = [\"submission\", \"train_events\", \"train_series\", \"test_series\"]\n",
    "        \n",
    "    def verify(self, filename: str):\n",
    "        \"\"\"ファイル名の存在チェック\"\"\"\n",
    "        if filename not in self.valid_names:\n",
    "            print(\"PLEASE ENTER A VALID DATASET NAME, VALID NAMES ARE: \", valid_names)\n",
    "            \n",
    "        return\n",
    "    \n",
    "    def load(self, filename: str):\n",
    "        self.verify(filename)\n",
    "        data_props = self.names_mapping[filename]\n",
    "        \n",
    "        if data_props[\"is_parquet\"]:\n",
    "            df = pd.read_parquet(data_props[\"path\"])\n",
    "        else:\n",
    "            df = pd.read_csv(data_props[\"path\"])\n",
    "        \n",
    "        if data_props[\"has_timestamp\"]:\n",
    "            # \n",
    "            df = df.dropna(subset=[\"timestamp\"])\n",
    "            \n",
    "        gc.collect()\n",
    "        \n",
    "        return df"
   ]
  },
  {
   "cell_type": "code",
   "execution_count": 5,
   "id": "287da7d9",
   "metadata": {
    "execution": {
     "iopub.execute_input": "2023-11-30T08:58:08.596695Z",
     "iopub.status.busy": "2023-11-30T08:58:08.596296Z",
     "iopub.status.idle": "2023-11-30T08:59:15.563179Z",
     "shell.execute_reply": "2023-11-30T08:59:15.562272Z"
    },
    "papermill": {
     "duration": 66.974791,
     "end_time": "2023-11-30T08:59:15.566245",
     "exception": false,
     "start_time": "2023-11-30T08:58:08.591454",
     "status": "completed"
    },
    "tags": []
   },
   "outputs": [],
   "source": [
    "reader = DataReader()\n",
    "series_df = reader.load(filename=\"train_series\")\n",
    "events_df = reader.load(filename=\"train_events\")"
   ]
  },
  {
   "cell_type": "code",
   "execution_count": 6,
   "id": "27cab3bc",
   "metadata": {
    "execution": {
     "iopub.execute_input": "2023-11-30T08:59:15.580122Z",
     "iopub.status.busy": "2023-11-30T08:59:15.579096Z",
     "iopub.status.idle": "2023-11-30T08:59:15.597488Z",
     "shell.execute_reply": "2023-11-30T08:59:15.596382Z"
    },
    "papermill": {
     "duration": 0.027357,
     "end_time": "2023-11-30T08:59:15.599641",
     "exception": false,
     "start_time": "2023-11-30T08:59:15.572284",
     "status": "completed"
    },
    "tags": []
   },
   "outputs": [
    {
     "name": "stdout",
     "output_type": "stream",
     "text": [
      "              series_id    step                 timestamp     anglez    enmo\n",
      "0          038441c925bb       0  2018-08-14T15:30:00-0400   2.636700  0.0217\n",
      "1          038441c925bb       1  2018-08-14T15:30:05-0400   2.636800  0.0215\n",
      "2          038441c925bb       2  2018-08-14T15:30:10-0400   2.637000  0.0216\n",
      "3          038441c925bb       3  2018-08-14T15:30:15-0400   2.636800  0.0213\n",
      "4          038441c925bb       4  2018-08-14T15:30:20-0400   2.636800  0.0215\n",
      "...                 ...     ...                       ...        ...     ...\n",
      "127946335  fe90110788d2  592375  2017-09-08T00:14:35-0400 -27.277500  0.0204\n",
      "127946336  fe90110788d2  592376  2017-09-08T00:14:40-0400 -27.032499  0.0233\n",
      "127946337  fe90110788d2  592377  2017-09-08T00:14:45-0400 -26.841200  0.0202\n",
      "127946338  fe90110788d2  592378  2017-09-08T00:14:50-0400 -26.723900  0.0199\n",
      "127946339  fe90110788d2  592379  2017-09-08T00:14:55-0400 -31.521601  0.0205\n",
      "\n",
      "[127946340 rows x 5 columns]\n",
      "          series_id  night   event      step                 timestamp\n",
      "0      038441c925bb      1   onset    4992.0  2018-08-14T22:26:00-0400\n",
      "1      038441c925bb      1  wakeup   10932.0  2018-08-15T06:41:00-0400\n",
      "2      038441c925bb      2   onset   20244.0  2018-08-15T19:37:00-0400\n",
      "3      038441c925bb      2  wakeup   27492.0  2018-08-16T05:41:00-0400\n",
      "4      038441c925bb      3   onset   39996.0  2018-08-16T23:03:00-0400\n",
      "...             ...    ...     ...       ...                       ...\n",
      "14501  fe90110788d2     32  wakeup  547152.0  2017-09-05T09:26:00-0400\n",
      "14502  fe90110788d2     33   onset  556560.0  2017-09-05T22:30:00-0400\n",
      "14503  fe90110788d2     33  wakeup  560604.0  2017-09-06T04:07:00-0400\n",
      "14504  fe90110788d2     34   onset  574620.0  2017-09-06T23:35:00-0400\n",
      "14505  fe90110788d2     34  wakeup  581604.0  2017-09-07T09:17:00-0400\n",
      "\n",
      "[9585 rows x 5 columns]\n"
     ]
    }
   ],
   "source": [
    "print(series_df)\n",
    "print(events_df)"
   ]
  },
  {
   "cell_type": "markdown",
   "id": "cac098c3",
   "metadata": {
    "papermill": {
     "duration": 0.003751,
     "end_time": "2023-11-30T08:59:15.607255",
     "exception": false,
     "start_time": "2023-11-30T08:59:15.603504",
     "status": "completed"
    },
    "tags": []
   },
   "source": [
    "### Preprocess"
   ]
  },
  {
   "cell_type": "code",
   "execution_count": 7,
   "id": "b3cb4bbc",
   "metadata": {
    "execution": {
     "iopub.execute_input": "2023-11-30T08:59:15.616893Z",
     "iopub.status.busy": "2023-11-30T08:59:15.616018Z",
     "iopub.status.idle": "2023-11-30T08:59:15.624492Z",
     "shell.execute_reply": "2023-11-30T08:59:15.623398Z"
    },
    "papermill": {
     "duration": 0.015797,
     "end_time": "2023-11-30T08:59:15.626764",
     "exception": false,
     "start_time": "2023-11-30T08:59:15.610967",
     "status": "completed"
    },
    "tags": []
   },
   "outputs": [],
   "source": [
    "SIGMA = 720 # 12h * 60min\n",
    "\n",
    "def gauss(n=SIGMA, sigma=SIGMA*0.15):\n",
    "    \"\"\"ガウス分布に基づいた関数の値を生成\n",
    "    指定された範囲と標準偏差を用いて、ガウス分布の値を計算\n",
    "    \n",
    "    Args:\n",
    "        n (int): ガウス分布の範囲 (default: SIGMA)\n",
    "        sigma (fint): 標準偏差\n",
    "    \"\"\"\n",
    "    r = range(-int(n/2), int(n/2)+1)\n",
    "    \n",
    "    return [\n",
    "        1 / (sigma*sqrt(2*pi)) * exp(-float(x)**2 / (2*sigma**2))\n",
    "        for x in r\n",
    "    ]"
   ]
  },
  {
   "cell_type": "code",
   "execution_count": 8,
   "id": "ec2bf09f",
   "metadata": {
    "execution": {
     "iopub.execute_input": "2023-11-30T08:59:15.636975Z",
     "iopub.status.busy": "2023-11-30T08:59:15.636358Z",
     "iopub.status.idle": "2023-11-30T08:59:15.646242Z",
     "shell.execute_reply": "2023-11-30T08:59:15.644978Z"
    },
    "papermill": {
     "duration": 0.017961,
     "end_time": "2023-11-30T08:59:15.648558",
     "exception": false,
     "start_time": "2023-11-30T08:59:15.630597",
     "status": "completed"
    },
    "tags": []
   },
   "outputs": [],
   "source": [
    "def _generate_labels_gaussian(X, y):\n",
    "    \"\"\"\n",
    "    Args:\n",
    "        X:\n",
    "        y (list): [(start_step, end_step), ...]\n",
    "            ex. [(4992, 10932), (20244, 27492), (39996, 44400), (57240, 62856), ...]\n",
    "    \"\"\"\n",
    "    # start_stepとend_stepの予測のため、2ついる\n",
    "    labels_gaussian = np.zeros(shape=(len(X), 2))\n",
    "\n",
    "    for start_step, end_step in y:\n",
    "        gauss_values = gauss()\n",
    "\n",
    "        start_range = max(0, start_step - SIGMA//2) # 0以上の値\n",
    "        end_range = min(len(X), end_step + SIGMA//2) # 説明変数長以下の値\n",
    "\n",
    "        # ガウス分布を開始点と終了点へ適用\n",
    "        labels_gaussian[start_range: start_step + SIGMA//2, 0] = gauss_values[:start_step + SIGMA//2 - start_range]\n",
    "        labels_gaussian[end_step: end_range, 1] = gauss_values[-(end_range - end_step):]\n",
    "\n",
    "    labels_gaussian /= np.max(labels_gaussian + 1e-12)\n",
    "    \n",
    "    return labels_gaussian"
   ]
  },
  {
   "cell_type": "code",
   "execution_count": 9,
   "id": "a6051b60",
   "metadata": {
    "execution": {
     "iopub.execute_input": "2023-11-30T08:59:15.658305Z",
     "iopub.status.busy": "2023-11-30T08:59:15.657543Z",
     "iopub.status.idle": "2023-11-30T10:34:20.551769Z",
     "shell.execute_reply": "2023-11-30T10:34:20.550204Z"
    },
    "papermill": {
     "duration": 5704.902786,
     "end_time": "2023-11-30T10:34:20.555066",
     "exception": false,
     "start_time": "2023-11-30T08:59:15.652280",
     "status": "completed"
    },
    "tags": []
   },
   "outputs": [
    {
     "data": {
      "application/vnd.jupyter.widget-view+json": {
       "model_id": "bb8562a8a0ad4c8a87e9e2e194a587ed",
       "version_major": 2,
       "version_minor": 0
      },
      "text/plain": [
       "  0%|          | 0/277 [00:00<?, ?it/s]"
      ]
     },
     "metadata": {},
     "output_type": "display_data"
    }
   ],
   "source": [
    "labels = []\n",
    "data = []\n",
    "ids = series_df[\"series_id\"].unique()\n",
    "\n",
    "dfs = pd.DataFrame()\n",
    "for series_id, viz_id in tqdm(enumerate(ids), total=len(ids)):\n",
    "    viz_labels = []\n",
    "    viz_events = events_df[events_df[\"series_id\"] == viz_id]\n",
    "    viz_series = series_df.loc[(series_df[\"series_id\"] == viz_id)].copy().reset_index()\n",
    "    \n",
    "    viz_series[\"dt\"] = pd.to_datetime(\n",
    "        viz_series[\"timestamp\"],\n",
    "        format=\"%Y-%m-%dT%H:%M:%S%z\",\n",
    "    ).astype(\"datetime64[ns, UTC-04:00]\")\n",
    "    viz_series[\"hour\"] = viz_series[\"dt\"].dt.hour\n",
    "    \n",
    "    check = 0\n",
    "    for i in range(len(viz_events)-1):\n",
    "        if (\n",
    "            viz_events.iloc[i][\"event\"] == \"onset\"\n",
    "            and viz_events.iloc[i+1][\"event\"] == \"wakeup\"\n",
    "            and viz_events.iloc[i][\"night\"] == viz_events.iloc[i+1][\"night\"]\n",
    "        ):\n",
    "            start, end = viz_events[\"timestamp\"].iloc[i], viz_events[\"timestamp\"].iloc[i+1]\n",
    "            \n",
    "            start_id = viz_series.loc[viz_series[\"timestamp\"] == start].index.values[0]\n",
    "            end_id = viz_series.loc[viz_series[\"timestamp\"] == end].index.values[0]\n",
    "            \n",
    "            viz_labels.append((start_id, end_id))\n",
    "            check += 1\n",
    "            \n",
    "    \n",
    "    labels_gaussian = _generate_labels_gaussian(X=viz_series, y=viz_labels)\n",
    "    \n",
    "    viz_series[\"onset\"] = labels_gaussian[:, 0]\n",
    "    viz_series[\"wakeup\"] = labels_gaussian[:, 1]\n",
    "    \n",
    "    df = viz_series[[\"step\", \"anglez\", \"enmo\", \"hour\", \"onset\", \"wakeup\"]]\n",
    "    \n",
    "    # idごとにsave\n",
    "    df.to_csv(f\"{out_dir}/{viz_id}.csv\", index=False)\n",
    "    \n",
    "    dfs = pd.concat([dfs, df], axis=0)\n",
    "    \n",
    "# 加速度の統計量をsave\n",
    "dfs = dfs.reset_index()\n",
    "np.save(\"enmo_mean.npy\", dfs[\"enmo\"].mean())\n",
    "np.save(\"enmo_std.npy\", dfs[\"enmo\"].std())\n",
    "np.save(\"anglez_mean.npy\", dfs[\"anglez\"].mean())\n",
    "np.save(\"anglez_std.npy\", dfs[\"anglez\"].std())"
   ]
  },
  {
   "cell_type": "code",
   "execution_count": 10,
   "id": "826d15f3",
   "metadata": {
    "execution": {
     "iopub.execute_input": "2023-11-30T10:34:20.569000Z",
     "iopub.status.busy": "2023-11-30T10:34:20.568548Z",
     "iopub.status.idle": "2023-11-30T10:34:22.942215Z",
     "shell.execute_reply": "2023-11-30T10:34:22.940709Z"
    },
    "papermill": {
     "duration": 2.384614,
     "end_time": "2023-11-30T10:34:22.944732",
     "exception": false,
     "start_time": "2023-11-30T10:34:20.560118",
     "status": "completed"
    },
    "tags": []
   },
   "outputs": [
    {
     "name": "stdout",
     "output_type": "stream",
     "text": [
      "enmo mean: 0.04132, enmo std: 0.10183\n",
      "anglez mean: -8.81045, anglez std: 35.52188\n"
     ]
    }
   ],
   "source": [
    "print(f\"enmo mean: {dfs['enmo'].mean():.5f}, enmo std: {dfs['enmo'].std():.5f}\")\n",
    "print(f\"anglez mean: {dfs['anglez'].mean():.5f}, anglez std: {dfs['anglez'].std():.5f}\")"
   ]
  }
 ],
 "metadata": {
  "kaggle": {
   "accelerator": "none",
   "dataSources": [
    {
     "databundleVersionId": 6589269,
     "sourceId": 53666,
     "sourceType": "competition"
    }
   ],
   "dockerImageVersionId": 30587,
   "isGpuEnabled": false,
   "isInternetEnabled": true,
   "language": "python",
   "sourceType": "notebook"
  },
  "kernelspec": {
   "display_name": "Python 3",
   "language": "python",
   "name": "python3"
  },
  "language_info": {
   "codemirror_mode": {
    "name": "ipython",
    "version": 3
   },
   "file_extension": ".py",
   "mimetype": "text/x-python",
   "name": "python",
   "nbconvert_exporter": "python",
   "pygments_lexer": "ipython3",
   "version": "3.10.12"
  },
  "papermill": {
   "default_parameters": {},
   "duration": 5781.769635,
   "end_time": "2023-11-30T10:34:25.581425",
   "environment_variables": {},
   "exception": null,
   "input_path": "__notebook__.ipynb",
   "output_path": "__notebook__.ipynb",
   "parameters": {},
   "start_time": "2023-11-30T08:58:03.811790",
   "version": "2.4.0"
  },
  "widgets": {
   "application/vnd.jupyter.widget-state+json": {
    "state": {
     "0bf7171ac5094cf998e995b62e080aa3": {
      "model_module": "@jupyter-widgets/base",
      "model_module_version": "1.2.0",
      "model_name": "LayoutModel",
      "state": {
       "_model_module": "@jupyter-widgets/base",
       "_model_module_version": "1.2.0",
       "_model_name": "LayoutModel",
       "_view_count": null,
       "_view_module": "@jupyter-widgets/base",
       "_view_module_version": "1.2.0",
       "_view_name": "LayoutView",
       "align_content": null,
       "align_items": null,
       "align_self": null,
       "border": null,
       "bottom": null,
       "display": null,
       "flex": null,
       "flex_flow": null,
       "grid_area": null,
       "grid_auto_columns": null,
       "grid_auto_flow": null,
       "grid_auto_rows": null,
       "grid_column": null,
       "grid_gap": null,
       "grid_row": null,
       "grid_template_areas": null,
       "grid_template_columns": null,
       "grid_template_rows": null,
       "height": null,
       "justify_content": null,
       "justify_items": null,
       "left": null,
       "margin": null,
       "max_height": null,
       "max_width": null,
       "min_height": null,
       "min_width": null,
       "object_fit": null,
       "object_position": null,
       "order": null,
       "overflow": null,
       "overflow_x": null,
       "overflow_y": null,
       "padding": null,
       "right": null,
       "top": null,
       "visibility": null,
       "width": null
      }
     },
     "2c30eeb3db0344a799b4bd4f24c0373f": {
      "model_module": "@jupyter-widgets/controls",
      "model_module_version": "1.5.0",
      "model_name": "HTMLModel",
      "state": {
       "_dom_classes": [],
       "_model_module": "@jupyter-widgets/controls",
       "_model_module_version": "1.5.0",
       "_model_name": "HTMLModel",
       "_view_count": null,
       "_view_module": "@jupyter-widgets/controls",
       "_view_module_version": "1.5.0",
       "_view_name": "HTMLView",
       "description": "",
       "description_tooltip": null,
       "layout": "IPY_MODEL_f154e3958e1e4ebca88b9b7fc8368b03",
       "placeholder": "​",
       "style": "IPY_MODEL_d497f67975ee4d7598cf402a9d58e5bb",
       "value": " 277/277 [1:34:49&lt;00:00, 24.26s/it]"
      }
     },
     "41644931b3c94c88957543d656d55839": {
      "model_module": "@jupyter-widgets/base",
      "model_module_version": "1.2.0",
      "model_name": "LayoutModel",
      "state": {
       "_model_module": "@jupyter-widgets/base",
       "_model_module_version": "1.2.0",
       "_model_name": "LayoutModel",
       "_view_count": null,
       "_view_module": "@jupyter-widgets/base",
       "_view_module_version": "1.2.0",
       "_view_name": "LayoutView",
       "align_content": null,
       "align_items": null,
       "align_self": null,
       "border": null,
       "bottom": null,
       "display": null,
       "flex": null,
       "flex_flow": null,
       "grid_area": null,
       "grid_auto_columns": null,
       "grid_auto_flow": null,
       "grid_auto_rows": null,
       "grid_column": null,
       "grid_gap": null,
       "grid_row": null,
       "grid_template_areas": null,
       "grid_template_columns": null,
       "grid_template_rows": null,
       "height": null,
       "justify_content": null,
       "justify_items": null,
       "left": null,
       "margin": null,
       "max_height": null,
       "max_width": null,
       "min_height": null,
       "min_width": null,
       "object_fit": null,
       "object_position": null,
       "order": null,
       "overflow": null,
       "overflow_x": null,
       "overflow_y": null,
       "padding": null,
       "right": null,
       "top": null,
       "visibility": null,
       "width": null
      }
     },
     "47fc4ee8dedb4c88a1c024de352e18ba": {
      "model_module": "@jupyter-widgets/controls",
      "model_module_version": "1.5.0",
      "model_name": "HTMLModel",
      "state": {
       "_dom_classes": [],
       "_model_module": "@jupyter-widgets/controls",
       "_model_module_version": "1.5.0",
       "_model_name": "HTMLModel",
       "_view_count": null,
       "_view_module": "@jupyter-widgets/controls",
       "_view_module_version": "1.5.0",
       "_view_name": "HTMLView",
       "description": "",
       "description_tooltip": null,
       "layout": "IPY_MODEL_78535d4360e34dfb97ff96244c50f4c3",
       "placeholder": "​",
       "style": "IPY_MODEL_c1d6d31735c949e694c2e4173e1611bc",
       "value": "100%"
      }
     },
     "78535d4360e34dfb97ff96244c50f4c3": {
      "model_module": "@jupyter-widgets/base",
      "model_module_version": "1.2.0",
      "model_name": "LayoutModel",
      "state": {
       "_model_module": "@jupyter-widgets/base",
       "_model_module_version": "1.2.0",
       "_model_name": "LayoutModel",
       "_view_count": null,
       "_view_module": "@jupyter-widgets/base",
       "_view_module_version": "1.2.0",
       "_view_name": "LayoutView",
       "align_content": null,
       "align_items": null,
       "align_self": null,
       "border": null,
       "bottom": null,
       "display": null,
       "flex": null,
       "flex_flow": null,
       "grid_area": null,
       "grid_auto_columns": null,
       "grid_auto_flow": null,
       "grid_auto_rows": null,
       "grid_column": null,
       "grid_gap": null,
       "grid_row": null,
       "grid_template_areas": null,
       "grid_template_columns": null,
       "grid_template_rows": null,
       "height": null,
       "justify_content": null,
       "justify_items": null,
       "left": null,
       "margin": null,
       "max_height": null,
       "max_width": null,
       "min_height": null,
       "min_width": null,
       "object_fit": null,
       "object_position": null,
       "order": null,
       "overflow": null,
       "overflow_x": null,
       "overflow_y": null,
       "padding": null,
       "right": null,
       "top": null,
       "visibility": null,
       "width": null
      }
     },
     "a67ce0e6f13d4a63a3bbc328f7849c9b": {
      "model_module": "@jupyter-widgets/controls",
      "model_module_version": "1.5.0",
      "model_name": "FloatProgressModel",
      "state": {
       "_dom_classes": [],
       "_model_module": "@jupyter-widgets/controls",
       "_model_module_version": "1.5.0",
       "_model_name": "FloatProgressModel",
       "_view_count": null,
       "_view_module": "@jupyter-widgets/controls",
       "_view_module_version": "1.5.0",
       "_view_name": "ProgressView",
       "bar_style": "success",
       "description": "",
       "description_tooltip": null,
       "layout": "IPY_MODEL_0bf7171ac5094cf998e995b62e080aa3",
       "max": 277.0,
       "min": 0.0,
       "orientation": "horizontal",
       "style": "IPY_MODEL_ce47b8fb437d4cda819c01d9d5f6544a",
       "value": 277.0
      }
     },
     "bb8562a8a0ad4c8a87e9e2e194a587ed": {
      "model_module": "@jupyter-widgets/controls",
      "model_module_version": "1.5.0",
      "model_name": "HBoxModel",
      "state": {
       "_dom_classes": [],
       "_model_module": "@jupyter-widgets/controls",
       "_model_module_version": "1.5.0",
       "_model_name": "HBoxModel",
       "_view_count": null,
       "_view_module": "@jupyter-widgets/controls",
       "_view_module_version": "1.5.0",
       "_view_name": "HBoxView",
       "box_style": "",
       "children": [
        "IPY_MODEL_47fc4ee8dedb4c88a1c024de352e18ba",
        "IPY_MODEL_a67ce0e6f13d4a63a3bbc328f7849c9b",
        "IPY_MODEL_2c30eeb3db0344a799b4bd4f24c0373f"
       ],
       "layout": "IPY_MODEL_41644931b3c94c88957543d656d55839"
      }
     },
     "c1d6d31735c949e694c2e4173e1611bc": {
      "model_module": "@jupyter-widgets/controls",
      "model_module_version": "1.5.0",
      "model_name": "DescriptionStyleModel",
      "state": {
       "_model_module": "@jupyter-widgets/controls",
       "_model_module_version": "1.5.0",
       "_model_name": "DescriptionStyleModel",
       "_view_count": null,
       "_view_module": "@jupyter-widgets/base",
       "_view_module_version": "1.2.0",
       "_view_name": "StyleView",
       "description_width": ""
      }
     },
     "ce47b8fb437d4cda819c01d9d5f6544a": {
      "model_module": "@jupyter-widgets/controls",
      "model_module_version": "1.5.0",
      "model_name": "ProgressStyleModel",
      "state": {
       "_model_module": "@jupyter-widgets/controls",
       "_model_module_version": "1.5.0",
       "_model_name": "ProgressStyleModel",
       "_view_count": null,
       "_view_module": "@jupyter-widgets/base",
       "_view_module_version": "1.2.0",
       "_view_name": "StyleView",
       "bar_color": null,
       "description_width": ""
      }
     },
     "d497f67975ee4d7598cf402a9d58e5bb": {
      "model_module": "@jupyter-widgets/controls",
      "model_module_version": "1.5.0",
      "model_name": "DescriptionStyleModel",
      "state": {
       "_model_module": "@jupyter-widgets/controls",
       "_model_module_version": "1.5.0",
       "_model_name": "DescriptionStyleModel",
       "_view_count": null,
       "_view_module": "@jupyter-widgets/base",
       "_view_module_version": "1.2.0",
       "_view_name": "StyleView",
       "description_width": ""
      }
     },
     "f154e3958e1e4ebca88b9b7fc8368b03": {
      "model_module": "@jupyter-widgets/base",
      "model_module_version": "1.2.0",
      "model_name": "LayoutModel",
      "state": {
       "_model_module": "@jupyter-widgets/base",
       "_model_module_version": "1.2.0",
       "_model_name": "LayoutModel",
       "_view_count": null,
       "_view_module": "@jupyter-widgets/base",
       "_view_module_version": "1.2.0",
       "_view_name": "LayoutView",
       "align_content": null,
       "align_items": null,
       "align_self": null,
       "border": null,
       "bottom": null,
       "display": null,
       "flex": null,
       "flex_flow": null,
       "grid_area": null,
       "grid_auto_columns": null,
       "grid_auto_flow": null,
       "grid_auto_rows": null,
       "grid_column": null,
       "grid_gap": null,
       "grid_row": null,
       "grid_template_areas": null,
       "grid_template_columns": null,
       "grid_template_rows": null,
       "height": null,
       "justify_content": null,
       "justify_items": null,
       "left": null,
       "margin": null,
       "max_height": null,
       "max_width": null,
       "min_height": null,
       "min_width": null,
       "object_fit": null,
       "object_position": null,
       "order": null,
       "overflow": null,
       "overflow_x": null,
       "overflow_y": null,
       "padding": null,
       "right": null,
       "top": null,
       "visibility": null,
       "width": null
      }
     }
    },
    "version_major": 2,
    "version_minor": 0
   }
  }
 },
 "nbformat": 4,
 "nbformat_minor": 5
}
